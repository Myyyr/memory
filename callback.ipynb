{
 "cells": [
  {
   "cell_type": "code",
   "execution_count": 1,
   "metadata": {},
   "outputs": [],
   "source": [
    "import numpy as np\n",
    "import matplotlib.pyplot as plt\n",
    "import json\n",
    "\n"
   ]
  },
  {
   "cell_type": "code",
   "execution_count": 2,
   "metadata": {},
   "outputs": [],
   "source": [
    "def convert_bytes(size):\n",
    "    for x in ['bytes', 'KB', 'MB', 'GB', 'TB']:\n",
    "        if size < 1024.0:\n",
    "            return \"%3.2f %s\" % (size, x)\n",
    "        size /= 1000.0\n",
    "\n",
    "    return size"
   ]
  },
  {
   "cell_type": "code",
   "execution_count": 3,
   "metadata": {},
   "outputs": [],
   "source": [
    "with open('./callback_unet_memory_full.json', 'r') as f:\n",
    "    js = json.load(f)"
   ]
  },
  {
   "cell_type": "code",
   "execution_count": 4,
   "metadata": {},
   "outputs": [
    {
     "name": "stdout",
     "output_type": "stream",
     "text": [
      "model : max : 380.51 MB | cur : 380.51 MB | \n",
      "input : max : 381.33 MB | cur : 381.33 MB | \n",
      "output : max : 392.80 MB | cur : 392.80 MB | \n",
      "forward : max : 1.07 GB | cur : 931.03 MB | \n",
      "loss : max : 1.07 GB | cur : 931.05 MB | \n",
      "backward : max : 1.13 GB | cur : 759.48 MB | \n",
      "step : max : 1.13 GB | cur : 759.48 MB | \n"
     ]
    }
   ],
   "source": [
    "for i in list(js.keys())[:-2]:\n",
    "    txt = i +' : '\n",
    "    for k in list(js[i]):\n",
    "        txt += k + ' : ' + convert_bytes(js[i][k]) + ' | '\n",
    "    print(txt)"
   ]
  },
  {
   "cell_type": "code",
   "execution_count": 11,
   "metadata": {},
   "outputs": [],
   "source": [
    "f_cur, f_max, b_cur, b_max, f_name, b_name = [], [], [], [], [], []\n",
    "for fk, bk in zip(js['hookF'], js['hookB']):\n",
    "    f_cur.append(fk['cur'][0])\n",
    "    f_max.append(fk['max'][0])\n",
    "    f_name.append(fk['name'])\n",
    "    b_cur.append(bk['cur'][0])\n",
    "    b_max.append(bk['max'][0])\n",
    "    b_name.append(bk['name'])"
   ]
  },
  {
   "cell_type": "code",
   "execution_count": 12,
   "metadata": {},
   "outputs": [
    {
     "data": {
      "image/png": "[encoded data removed]",
      "text/plain": [
       "<Figure size 432x288 with 1 Axes>"
      ]
     },
     "metadata": {
      "needs_background": "light"
     },
     "output_type": "display_data"
    },
    {
     "data": {
      "image/png": "[encoded data removed]",
      "text/plain": [
       "<Figure size 432x288 with 1 Axes>"
      ]
     },
     "metadata": {
      "needs_background": "light"
     },
     "output_type": "display_data"
    }
   ],
   "source": [
    "x1, x2 = list(range(len(f_cur))), list(range(len(f_cur),len(f_cur)+len(b_cur)))\n",
    "plt.plot(x1+x2,f_cur + list(reversed(b_cur)))\n",
    "plt.plot(x1,f_cur, 'o', label = 'forward')\n",
    "plt.plot(x2,list(reversed(b_cur)), 'o', label = 'backward')\n",
    "plt.legend()\n",
    "plt.title('Current memory allocated')\n",
    "plt.show()\n",
    "\n",
    "\n",
    "plt.plot(x1+x2,f_max + list(reversed(b_max)))\n",
    "plt.plot(x1,f_max, 'o', label = 'forward')\n",
    "plt.plot(x2,list(reversed(b_max)), 'o', label = 'backward')\n",
    "plt.legend()\n",
    "plt.title('Maximum memory allocated')\n",
    "plt.show()"
   ]
  },
  {
   "cell_type": "code",
   "execution_count": 35,
   "metadata": {},
   "outputs": [
    {
     "name": "stdout",
     "output_type": "stream",
     "text": [
      "softmax     +11.47 MB\n",
      "Conv3d      -34.41 MB\n",
      "UnetUp3_CT  +93.39 MB\n",
      "UnetUp3_CT  -89.73 MB\n",
      "UnetUp3_CT  -106.30 MB\n",
      "UnetUp3_CT  -1.41 MB\n",
      "UnetConv3   +106.08 MB\n",
      "MaxPool3d   +168.44 MB\n",
      "UnetConv3   -2.76 MB\n",
      "MaxPool3d   +43.00 MB\n",
      "UnetConv3   -7.78 MB\n",
      "MaxPool3d   +11.54 MB\n",
      "UnetConv3   -31.13 MB\n",
      "MaxPool3d   +2.66 MB\n",
      "UnetConv3   -124.52 MB\n"
     ]
    }
   ],
   "source": [
    "a = [f_cur[-1]]+list(reversed(b_cur))[:-1]\n",
    "b = list(reversed(b_cur))\n",
    "for i,j in zip(list(reversed(b_name)), np.array(b) - np.array(a)):\n",
    "    txt = i.replace('[','').replace(\"'\",'').replace(']','')\n",
    "    s = ''.join([' ' for i in range(10-len(txt))])\n",
    "    v = \"-\"+str(convert_bytes(abs(j))) if j<0 else \"+\"+str(convert_bytes(abs(j)))\n",
    "    print(txt,s,v)\n"
   ]
  },
  {
   "cell_type": "code",
   "execution_count": 45,
   "metadata": {},
   "outputs": [
    {
     "name": "stdout",
     "output_type": "stream",
     "text": [
      "93.39 MB\n"
     ]
    }
   ],
   "source": [
    "print(convert_bytes(64*80*80*32*4*2 - 14*80*80*32*4))"
   ]
  },
  {
   "cell_type": "code",
   "execution_count": 14,
   "metadata": {},
   "outputs": [
    {
     "name": "stdout",
     "output_type": "stream",
     "text": [
      "52428800\n",
      "13107200\n",
      "819200\n"
     ]
    }
   ],
   "source": [
    "print(64*80*80*32*4)\n",
    "print(128*40*40*16*4)\n",
    "print(64*20*20*8*4)"
   ]
  },
  {
   "cell_type": "code",
   "execution_count": 15,
   "metadata": {},
   "outputs": [
    {
     "data": {
      "text/plain": [
       "[\"['UnetConv3']\",\n",
       " \"['MaxPool3d']\",\n",
       " \"['UnetConv3']\",\n",
       " \"['MaxPool3d']\",\n",
       " \"['UnetConv3']\",\n",
       " \"['MaxPool3d']\",\n",
       " \"['UnetConv3']\",\n",
       " \"['MaxPool3d']\",\n",
       " \"['UnetConv3']\",\n",
       " \"['UnetUp3_CT']\",\n",
       " \"['UnetUp3_CT']\",\n",
       " \"['UnetUp3_CT']\",\n",
       " \"['UnetUp3_CT']\",\n",
       " \"['Conv3d']\",\n",
       " \"['softmax']\"]"
      ]
     },
     "execution_count": 15,
     "metadata": {},
     "output_type": "execute_result"
    }
   ],
   "source": [
    "f_name"
   ]
  },
  {
   "cell_type": "code",
   "execution_count": 46,
   "metadata": {},
   "outputs": [
    {
     "name": "stdout",
     "output_type": "stream",
     "text": [
      "model : max : 380.51 MB | cur : 380.51 MB | \n",
      "input : max : 387.07 MB | cur : 387.07 MB | \n",
      "output : max : 479.34 MB | cur : 479.34 MB | \n",
      "forward : max : 5.85 GB | cur : 4.78 GB | \n",
      "loss : max : 5.85 GB | cur : 4.78 GB | \n",
      "backward : max : 5.85 GB | cur : 758.10 MB | \n",
      "step : max : 5.85 GB | cur : 758.10 MB | \n"
     ]
    },
    {
     "data": {
      "image/png": "[encoded data removed]",
      "text/plain": [
       "<Figure size 432x288 with 1 Axes>"
      ]
     },
     "metadata": {
      "needs_background": "light"
     },
     "output_type": "display_data"
    },
    {
     "data": {
      "image/png": "[encoded data removed]",
      "text/plain": [
       "<Figure size 432x288 with 1 Axes>"
      ]
     },
     "metadata": {
      "needs_background": "light"
     },
     "output_type": "display_data"
    },
    {
     "name": "stdout",
     "output_type": "stream",
     "text": [
      "softmax     +91.75 MB\n",
      "Conv3d      -275.77 MB\n",
      "UnetUp3_CT  +747.11 MB\n",
      "UnetUp3_CT  -731.92 MB\n",
      "UnetUp3_CT  -909.38 MB\n",
      "UnetUp3_CT  -205.26 MB\n",
      "UnetConv3   +56.43 MB\n",
      "MaxPool3d   +156.97 MB\n",
      "UnetConv3   -15.04 MB\n",
      "MaxPool3d   +43.00 MB\n",
      "UnetConv3   -61.21 MB\n",
      "MaxPool3d   +8.52 MB\n",
      "UnetConv3   -249.04 MB\n",
      "MaxPool3d   +3.44 MB\n",
      "UnetConv3   -996.15 MB\n"
     ]
    }
   ],
   "source": [
    "with open('./callback_unet_memory_160_full.json', 'r') as f:\n",
    "    js = json.load(f)\n",
    "    \n",
    "for i in list(js.keys())[:-2]:\n",
    "    txt = i +' : '\n",
    "    for k in list(js[i]):\n",
    "        txt += k + ' : ' + convert_bytes(js[i][k]) + ' | '\n",
    "    print(txt)\n",
    "    \n",
    "f_cur, f_max, b_cur, b_max, f_name, b_name = [], [], [], [], [], []\n",
    "for fk, bk in zip(js['hookF'], js['hookB']):\n",
    "    f_cur.append(fk['cur'][0])\n",
    "    f_max.append(fk['max'][0])\n",
    "    f_name.append(fk['name'])\n",
    "    b_cur.append(bk['cur'][0])\n",
    "    b_max.append(bk['max'][0])\n",
    "    b_name.append(bk['name'])\n",
    "\n",
    "x1, x2 = list(range(len(f_cur))), list(range(len(f_cur),len(f_cur)+len(b_cur)))\n",
    "plt.plot(x1+x2,f_cur + list(reversed(b_cur)))\n",
    "plt.plot(x1,f_cur, 'o', label = 'forward')\n",
    "plt.plot(x2,list(reversed(b_cur)), 'o', label = 'backward')\n",
    "plt.legend()\n",
    "plt.title('Current memory allocated')\n",
    "plt.show()\n",
    "\n",
    "\n",
    "plt.plot(x1+x2,f_max + list(reversed(b_max)))\n",
    "plt.plot(x1,f_max, 'o', label = 'forward')\n",
    "plt.plot(x2,list(reversed(b_max)), 'o', label = 'backward')\n",
    "plt.legend()\n",
    "plt.title('Maximum memory allocated')\n",
    "plt.show()\n",
    "\n",
    "\n",
    "a = [f_cur[-1]]+list(reversed(b_cur))[:-1]\n",
    "b = list(reversed(b_cur))\n",
    "for i,j in zip(list(reversed(b_name)), np.array(b) - np.array(a)):\n",
    "    txt = i.replace('[','').replace(\"'\",'').replace(']','')\n",
    "    s = ''.join([' ' for i in range(10-len(txt))])\n",
    "    v = \"-\"+str(convert_bytes(abs(j))) if j<0 else \"+\"+str(convert_bytes(abs(j)))\n",
    "    print(txt,s,v)"
   ]
  },
  {
   "cell_type": "code",
   "execution_count": 47,
   "metadata": {},
   "outputs": [
    {
     "name": "stdout",
     "output_type": "stream",
     "text": [
      "747.11 MB\n"
     ]
    }
   ],
   "source": [
    "print(convert_bytes(64*160*160*64*4*2 - 14*160*160*64*4))"
   ]
  },
  {
   "cell_type": "code",
   "execution_count": 49,
   "metadata": {},
   "outputs": [
    {
     "name": "stdout",
     "output_type": "stream",
     "text": [
      "model : max : 380.51 MB | cur : 380.51 MB | \n",
      "input : max : 382.92 MB | cur : 382.92 MB | \n",
      "output : max : 416.64 MB | cur : 416.64 MB | \n",
      "forward : max : 2.40 GB | cur : 2.00 GB | \n",
      "loss : max : 2.40 GB | cur : 2.00 GB | \n",
      "backward : max : 2.40 GB | cur : 759.74 MB | \n",
      "step : max : 2.40 GB | cur : 759.74 MB | \n"
     ]
    },
    {
     "data": {
      "image/png": "[encoded data removed]",
      "text/plain": [
       "<Figure size 432x288 with 1 Axes>"
      ]
     },
     "metadata": {
      "needs_background": "light"
     },
     "output_type": "display_data"
    },
    {
     "data": {
      "image/png": "[encoded data removed]",
      "text/plain": [
       "<Figure size 432x288 with 1 Axes>"
      ]
     },
     "metadata": {
      "needs_background": "light"
     },
     "output_type": "display_data"
    },
    {
     "name": "stdout",
     "output_type": "stream",
     "text": [
      "softmax     +33.72 MB\n",
      "Conv3d      -101.15 MB\n",
      "UnetUp3_CT  +274.57 MB\n",
      "UnetUp3_CT  -269.70 MB\n",
      "UnetUp3_CT  -329.51 MB\n",
      "UnetUp3_CT  -56.97 MB\n",
      "UnetConv3   +93.22 MB\n",
      "MaxPool3d   +165.66 MB\n",
      "UnetConv3   -6.77 MB\n",
      "MaxPool3d   +42.36 MB\n",
      "UnetConv3   -22.88 MB\n",
      "MaxPool3d   +11.27 MB\n",
      "UnetConv3   -91.52 MB\n",
      "MaxPool3d   +4.29 MB\n",
      "UnetConv3   -368.18 MB\n"
     ]
    }
   ],
   "source": [
    "with open('./callback_unet_memory_112_full.json', 'r') as f:\n",
    "    js = json.load(f)\n",
    "    \n",
    "for i in list(js.keys())[:-2]:\n",
    "    txt = i +' : '\n",
    "    for k in list(js[i]):\n",
    "        txt += k + ' : ' + convert_bytes(js[i][k]) + ' | '\n",
    "    print(txt)\n",
    "    \n",
    "f_cur, f_max, b_cur, b_max, f_name, b_name = [], [], [], [], [], []\n",
    "for fk, bk in zip(js['hookF'], js['hookB']):\n",
    "    f_cur.append(fk['cur'][0])\n",
    "    f_max.append(fk['max'][0])\n",
    "    f_name.append(fk['name'])\n",
    "    b_cur.append(bk['cur'][0])\n",
    "    b_max.append(bk['max'][0])\n",
    "    b_name.append(bk['name'])\n",
    "\n",
    "x1, x2 = list(range(len(f_cur))), list(range(len(f_cur),len(f_cur)+len(b_cur)))\n",
    "plt.plot(x1+x2,f_cur + list(reversed(b_cur)))\n",
    "plt.plot(x1,f_cur, 'o', label = 'forward')\n",
    "plt.plot(x2,list(reversed(b_cur)), 'o', label = 'backward')\n",
    "plt.legend()\n",
    "plt.title('Current memory allocated')\n",
    "plt.show()\n",
    "\n",
    "\n",
    "plt.plot(x1+x2,f_max + list(reversed(b_max)))\n",
    "plt.plot(x1,f_max, 'o', label = 'forward')\n",
    "plt.plot(x2,list(reversed(b_max)), 'o', label = 'backward')\n",
    "plt.legend()\n",
    "plt.title('Maximum memory allocated')\n",
    "plt.show()\n",
    "\n",
    "a = [f_cur[-1]]+list(reversed(b_cur))[:-1]\n",
    "b = list(reversed(b_cur))\n",
    "for i,j in zip(list(reversed(b_name)), np.array(b) - np.array(a)):\n",
    "    txt = i.replace('[','').replace(\"'\",'').replace(']','')\n",
    "    s = ''.join([' ' for i in range(10-len(txt))])\n",
    "    v = \"-\"+str(convert_bytes(abs(j))) if j<0 else \"+\"+str(convert_bytes(abs(j)))\n",
    "    print(txt,s,v)"
   ]
  },
  {
   "cell_type": "code",
   "execution_count": 48,
   "metadata": {},
   "outputs": [
    {
     "name": "stdout",
     "output_type": "stream",
     "text": [
      "274.56 MB\n"
     ]
    }
   ],
   "source": [
    "print(convert_bytes(64*112*112*48*4*2 - 14*112*112*48*4))"
   ]
  },
  {
   "cell_type": "code",
   "execution_count": 52,
   "metadata": {},
   "outputs": [
    {
     "name": "stdout",
     "output_type": "stream",
     "text": [
      "462.42 MB\n"
     ]
    }
   ],
   "source": [
    "print(convert_bytes(64*112*112*48*4))"
   ]
  },
  {
   "cell_type": "markdown",
   "metadata": {},
   "source": [
    "# RevUNet"
   ]
  },
  {
   "cell_type": "code",
   "execution_count": 3,
   "metadata": {},
   "outputs": [
    {
     "name": "stdout",
     "output_type": "stream",
     "text": [
      "model : max : 160.67 MB | cur : 160.67 MB | \n",
      "input : max : 161.49 MB | cur : 161.49 MB | \n",
      "output : max : 172.96 MB | cur : 172.96 MB | \n",
      "forward : max : 445.70 MB | cur : 361.68 MB | \n",
      "loss : max : 445.70 MB | cur : 361.71 MB | \n",
      "backward : max : 665.65 MB | cur : 317.87 MB | \n",
      "step : max : 665.65 MB | cur : 317.87 MB | \n"
     ]
    }
   ],
   "source": [
    "with open('./callback_revunet_memory_80_full.json', 'r') as f:\n",
    "    revjs = json.load(f)\n",
    "    \n",
    "    \n",
    "for i in list(revjs.keys())[:-2]:\n",
    "    txt = i +' : '\n",
    "    for k in list(revjs[i]):\n",
    "        txt += k + ' : ' + convert_bytes(revjs[i][k]) + ' | '\n",
    "    print(txt)"
   ]
  },
  {
   "cell_type": "code",
   "execution_count": 4,
   "metadata": {},
   "outputs": [
    {
     "data": {
      "text/plain": [
       "[{'max': [229084160], 'cur': [225389056], 'name': \"['Conv3d']\"},\n",
       " {'max': [], 'cur': [], 'name': '[]'},\n",
       " {'max': [], 'cur': [], 'name': '[]'},\n",
       " {'max': [445700608], 'cur': [350214656], 'name': \"['Conv3d']\"},\n",
       " {'max': [445700608], 'cur': [361683456], 'name': \"['softmax']\"}]"
      ]
     },
     "execution_count": 4,
     "metadata": {},
     "output_type": "execute_result"
    }
   ],
   "source": [
    "revjs['hookF']"
   ]
  },
  {
   "cell_type": "code",
   "execution_count": 5,
   "metadata": {},
   "outputs": [
    {
     "data": {
      "text/plain": [
       "[{'max': [665652224], 'cur': [371120128], 'name': \"['Conv3d']\"},\n",
       " {'max': [], 'cur': [], 'name': '[]'},\n",
       " {'max': [], 'cur': [], 'name': '[]'},\n",
       " {'max': [445700608], 'cur': [338747392], 'name': \"['Conv3d']\"},\n",
       " {'max': [445700608], 'cur': [373153280], 'name': \"['softmax']\"}]"
      ]
     },
     "execution_count": 5,
     "metadata": {},
     "output_type": "execute_result"
    }
   ],
   "source": [
    "revjs['hookB']"
   ]
  },
  {
   "cell_type": "code",
   "execution_count": 6,
   "metadata": {},
   "outputs": [
    {
     "ename": "IndexError",
     "evalue": "list index out of range",
     "output_type": "error",
     "traceback": [
      "\u001b[0;31m---------------------------------------------------------------------------\u001b[0m",
      "\u001b[0;31mIndexError\u001b[0m                                Traceback (most recent call last)",
      "\u001b[0;32m<ipython-input-6-93ac88dd82c2>\u001b[0m in \u001b[0;36m<module>\u001b[0;34m\u001b[0m\n\u001b[1;32m      1\u001b[0m \u001b[0mfrev_cur\u001b[0m\u001b[0;34m,\u001b[0m \u001b[0mfrev_max\u001b[0m\u001b[0;34m,\u001b[0m \u001b[0mbrev_cur\u001b[0m\u001b[0;34m,\u001b[0m \u001b[0mbrev_max\u001b[0m \u001b[0;34m=\u001b[0m \u001b[0;34m[\u001b[0m\u001b[0;34m]\u001b[0m\u001b[0;34m,\u001b[0m \u001b[0;34m[\u001b[0m\u001b[0;34m]\u001b[0m\u001b[0;34m,\u001b[0m \u001b[0;34m[\u001b[0m\u001b[0;34m]\u001b[0m\u001b[0;34m,\u001b[0m \u001b[0;34m[\u001b[0m\u001b[0;34m]\u001b[0m\u001b[0;34m\u001b[0m\u001b[0;34m\u001b[0m\u001b[0m\n\u001b[1;32m      2\u001b[0m \u001b[0;32mfor\u001b[0m \u001b[0mfk\u001b[0m\u001b[0;34m,\u001b[0m \u001b[0mbk\u001b[0m \u001b[0;32min\u001b[0m \u001b[0mzip\u001b[0m\u001b[0;34m(\u001b[0m\u001b[0mrevjs\u001b[0m\u001b[0;34m[\u001b[0m\u001b[0;34m'hookF'\u001b[0m\u001b[0;34m]\u001b[0m\u001b[0;34m,\u001b[0m \u001b[0mrevjs\u001b[0m\u001b[0;34m[\u001b[0m\u001b[0;34m'hookB'\u001b[0m\u001b[0;34m]\u001b[0m\u001b[0;34m)\u001b[0m\u001b[0;34m:\u001b[0m\u001b[0;34m\u001b[0m\u001b[0;34m\u001b[0m\u001b[0m\n\u001b[0;32m----> 3\u001b[0;31m     \u001b[0mfrev_cur\u001b[0m\u001b[0;34m.\u001b[0m\u001b[0mappend\u001b[0m\u001b[0;34m(\u001b[0m\u001b[0mfk\u001b[0m\u001b[0;34m[\u001b[0m\u001b[0;34m'cur'\u001b[0m\u001b[0;34m]\u001b[0m\u001b[0;34m[\u001b[0m\u001b[0;36m0\u001b[0m\u001b[0;34m]\u001b[0m\u001b[0;34m)\u001b[0m\u001b[0;34m\u001b[0m\u001b[0;34m\u001b[0m\u001b[0m\n\u001b[0m\u001b[1;32m      4\u001b[0m     \u001b[0mfrev_max\u001b[0m\u001b[0;34m.\u001b[0m\u001b[0mappend\u001b[0m\u001b[0;34m(\u001b[0m\u001b[0mfk\u001b[0m\u001b[0;34m[\u001b[0m\u001b[0;34m'max'\u001b[0m\u001b[0;34m]\u001b[0m\u001b[0;34m[\u001b[0m\u001b[0;36m0\u001b[0m\u001b[0;34m]\u001b[0m\u001b[0;34m)\u001b[0m\u001b[0;34m\u001b[0m\u001b[0;34m\u001b[0m\u001b[0m\n\u001b[1;32m      5\u001b[0m     \u001b[0mbrev_cur\u001b[0m\u001b[0;34m.\u001b[0m\u001b[0mappend\u001b[0m\u001b[0;34m(\u001b[0m\u001b[0mbk\u001b[0m\u001b[0;34m[\u001b[0m\u001b[0;34m'cur'\u001b[0m\u001b[0;34m]\u001b[0m\u001b[0;34m[\u001b[0m\u001b[0;36m0\u001b[0m\u001b[0;34m]\u001b[0m\u001b[0;34m)\u001b[0m\u001b[0;34m\u001b[0m\u001b[0;34m\u001b[0m\u001b[0m\n",
      "\u001b[0;31mIndexError\u001b[0m: list index out of range"
     ]
    }
   ],
   "source": [
    "frev_cur, frev_max, brev_cur, brev_max = [], [], [], []\n",
    "for fk, bk in zip(revjs['hookF'], revjs['hookB']):\n",
    "    frev_cur.append(fk['cur'][0])\n",
    "    frev_max.append(fk['max'][0])\n",
    "    brev_cur.append(bk['cur'][0])\n",
    "    brev_max.append(bk['max'][0])"
   ]
  },
  {
   "cell_type": "code",
   "execution_count": 7,
   "metadata": {},
   "outputs": [
    {
     "data": {
      "image/png": "[encoded data removed]",
      "text/plain": [
       "<Figure size 432x288 with 1 Axes>"
      ]
     },
     "metadata": {
      "needs_background": "light"
     },
     "output_type": "display_data"
    },
    {
     "data": {
      "image/png": "[encoded data removed]",
      "text/plain": [
       "<Figure size 432x288 with 1 Axes>"
      ]
     },
     "metadata": {
      "needs_background": "light"
     },
     "output_type": "display_data"
    }
   ],
   "source": [
    "x1, x2 = list(range(len(frev_cur))), list(range(len(frev_cur),len(frev_cur)+len(brev_cur)))\n",
    "plt.plot(x1+x2,frev_cur + list(reversed(brev_cur)))\n",
    "plt.plot(x1,frev_cur, 'o', label = 'forward')\n",
    "plt.plot(x2,list(reversed(brev_cur)), 'o', label = 'backward')\n",
    "plt.legend()\n",
    "plt.title('Current memory allocated')\n",
    "plt.show()\n",
    "\n",
    "\n",
    "plt.plot(x1+x2,frev_max + list(reversed(brev_max)))\n",
    "plt.plot(x1,frev_max, 'o', label = 'forward')\n",
    "plt.plot(x2,list(reversed(brev_max)), 'o', label = 'backward')\n",
    "plt.legend()\n",
    "plt.title('Maximum memory allocated')\n",
    "plt.show()"
   ]
  },
  {
   "cell_type": "code",
   "execution_count": 8,
   "metadata": {},
   "outputs": [
    {
     "name": "stdout",
     "output_type": "stream",
     "text": [
      "2.89 GB\n",
      "2.91 GB\n",
      "2.94 GB\n",
      "2.94 GB\n",
      "2.94 GB\n",
      "2.94 GB\n",
      "2.94 GB\n",
      "2.94 GB\n",
      "2.94 GB\n",
      "2.94 GB\n",
      "2.94 GB\n",
      "2.94 GB\n",
      "2.94 GB\n",
      "2.94 GB\n",
      "2.94 GB\n",
      "2.94 GB\n",
      "2.94 GB\n",
      "2.94 GB\n",
      "2.94 GB\n",
      "2.94 GB\n",
      "2.94 GB\n",
      "2.94 GB\n",
      "2.94 GB\n",
      "2.94 GB\n",
      "2.94 GB\n",
      "2.94 GB\n",
      "2.94 GB\n",
      "2.94 GB\n",
      "2.94 GB\n",
      "2.94 GB\n",
      "2.94 GB\n",
      "3.02 GB\n",
      "3.04 GB\n",
      "3.56 GB\n",
      "6.61 GB\n"
     ]
    }
   ],
   "source": [
    "for i in frev_max:\n",
    "    print(convert_bytes(i))"
   ]
  },
  {
   "cell_type": "code",
   "execution_count": null,
   "metadata": {},
   "outputs": [],
   "source": []
  },
  {
   "cell_type": "code",
   "execution_count": null,
   "metadata": {},
   "outputs": [],
   "source": []
  },
  {
   "cell_type": "code",
   "execution_count": null,
   "metadata": {},
   "outputs": [],
   "source": []
  },
  {
   "cell_type": "code",
   "execution_count": null,
   "metadata": {},
   "outputs": [],
   "source": []
  },
  {
   "cell_type": "code",
   "execution_count": null,
   "metadata": {},
   "outputs": [],
   "source": []
  }
 ],
 "metadata": {
  "kernelspec": {
   "display_name": "Python 3",
   "language": "python",
   "name": "python3"
  },
  "language_info": {
   "codemirror_mode": {
    "name": "ipython",
    "version": 3
   },
   "file_extension": ".py",
   "mimetype": "text/x-python",
   "name": "python",
   "nbconvert_exporter": "python",
   "pygments_lexer": "ipython3",
   "version": "3.6.10"
  }
 },
 "nbformat": 4,
 "nbformat_minor": 4
}
