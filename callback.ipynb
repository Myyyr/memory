{
 "cells": [
  {
   "cell_type": "code",
   "execution_count": 1,
   "metadata": {},
   "outputs": [],
   "source": [
    "import numpy as np\n",
    "import matplotlib.pyplot as plt\n",
    "import json\n",
    "\n"
   ]
  },
  {
   "cell_type": "code",
   "execution_count": 2,
   "metadata": {},
   "outputs": [],
   "source": [
    "def convert_bytes(size):\n",
    "    for x in ['bytes', 'KB', 'MB', 'GB', 'TB']:\n",
    "        if size < 1024.0:\n",
    "            return \"%3.2f %s\" % (size, x)\n",
    "        size /= 1000.0\n",
    "\n",
    "    return size"
   ]
  },
  {
   "cell_type": "code",
   "execution_count": 3,
   "metadata": {},
   "outputs": [],
   "source": [
    "with open('./callback_unet_memory_full.json', 'r') as f:\n",
    "    js = json.load(f)"
   ]
  },
  {
   "cell_type": "code",
   "execution_count": 4,
   "metadata": {},
   "outputs": [
    {
     "name": "stdout",
     "output_type": "stream",
     "text": [
      "model : max : 380.51 MB | cur : 380.51 MB | \n",
      "input : max : 381.33 MB | cur : 381.33 MB | \n",
      "output : max : 392.80 MB | cur : 392.80 MB | \n",
      "forward : max : 1.07 GB | cur : 931.03 MB | \n",
      "loss : max : 1.07 GB | cur : 931.05 MB | \n",
      "backward : max : 1.13 GB | cur : 759.48 MB | \n",
      "step : max : 1.13 GB | cur : 759.48 MB | \n"
     ]
    }
   ],
   "source": [
    "for i in list(js.keys())[:-2]:\n",
    "    txt = i +' : '\n",
    "    for k in list(js[i]):\n",
    "        txt += k + ' : ' + convert_bytes(js[i][k]) + ' | '\n",
    "    print(txt)"
   ]
  },
  {
   "cell_type": "code",
   "execution_count": 5,
   "metadata": {},
   "outputs": [],
   "source": [
    "f_cur, f_max, b_cur, b_max = [], [], [], []\n",
    "for fk, bk in zip(js['hookF'], js['hookB']):\n",
    "    f_cur.append(fk['cur'][0])\n",
    "    f_max.append(fk['max'][0])\n",
    "    b_cur.append(bk['cur'][0])\n",
    "    b_max.append(bk['max'][0])"
   ]
  },
  {
   "cell_type": "code",
   "execution_count": 6,
   "metadata": {},
   "outputs": [
    {
     "data": {
      "image/png": "[encoded data removed]",
      "text/plain": [
       "<Figure size 432x288 with 1 Axes>"
      ]
     },
     "metadata": {
      "needs_background": "light"
     },
     "output_type": "display_data"
    },
    {
     "data": {
      "image/png": "[encoded data removed]",
      "text/plain": [
       "<Figure size 432x288 with 1 Axes>"
      ]
     },
     "metadata": {
      "needs_background": "light"
     },
     "output_type": "display_data"
    }
   ],
   "source": [
    "x1, x2 = list(range(len(f_cur))), list(range(len(f_cur),len(f_cur)+len(b_cur)))\n",
    "plt.plot(x1+x2,f_cur + list(reversed(b_cur)))\n",
    "plt.plot(x1,f_cur, 'o', label = 'forward')\n",
    "plt.plot(x2,list(reversed(b_cur)), 'o', label = 'backward')\n",
    "plt.legend()\n",
    "plt.title('Current memory allocated')\n",
    "plt.show()\n",
    "\n",
    "\n",
    "plt.plot(x1+x2,f_max + list(reversed(b_max)))\n",
    "plt.plot(x1,f_max, 'o', label = 'forward')\n",
    "plt.plot(x2,list(reversed(b_max)), 'o', label = 'backward')\n",
    "plt.legend()\n",
    "plt.title('Maximum memory allocated')\n",
    "plt.show()"
   ]
  },
  {
   "cell_type": "code",
   "execution_count": 11,
   "metadata": {},
   "outputs": [
    {
     "data": {
      "text/plain": [
       "array([ -11464704,  -51985920,   54001664, -104857088,  -10550784,\n",
       "         18939904,  -27261952,    3802112,   24510464,   -6551552,\n",
       "         27494400,   85753856,   -1634304,  113045504,   57237504,\n",
       "         -4401152,   27494400,   17137664,  -14334976,    3802112,\n",
       "         14286848,  -57343488,  -11337216,   40206336, -229375488,\n",
       "        -51985920])"
      ]
     },
     "execution_count": 11,
     "metadata": {},
     "output_type": "execute_result"
    }
   ],
   "source": [
    "np.array(list(reversed(b_cur))[1:]) - np.array(list(reversed(b_cur))[:-1]) "
   ]
  },
  {
   "cell_type": "code",
   "execution_count": 16,
   "metadata": {},
   "outputs": [
    {
     "name": "stdout",
     "output_type": "stream",
     "text": [
      "52428800\n",
      "13107200\n",
      "819200\n"
     ]
    }
   ],
   "source": [
    "print(64*80*80*32*4)\n",
    "print(128*40*40*16*4)\n",
    "print(64*20*20*8*4)"
   ]
  },
  {
   "cell_type": "markdown",
   "metadata": {},
   "source": [
    "# RevUNet"
   ]
  },
  {
   "cell_type": "code",
   "execution_count": 3,
   "metadata": {},
   "outputs": [
    {
     "name": "stdout",
     "output_type": "stream",
     "text": [
      "model : max : 180.50 KB | cur : 180.50 KB | \n",
      "input : max : 24.93 MB | cur : 24.93 MB | \n",
      "output : max : 2.73 GB | cur : 2.73 GB | \n",
      "forward : max : 6.61 GB | cur : 6.27 GB | \n",
      "loss : max : 6.61 GB | cur : 6.27 GB | \n",
      "backward : max : 9.36 GB | cur : 361.50 KB | \n",
      "step : max : 9.36 GB | cur : 361.50 KB | \n"
     ]
    }
   ],
   "source": [
    "with open('./callback_rev_memory_full.json', 'r') as f:\n",
    "    revjs = json.load(f)\n",
    "    \n",
    "    \n",
    "for i in list(revjs.keys())[:-2]:\n",
    "    txt = i +' : '\n",
    "    for k in list(revjs[i]):\n",
    "        txt += k + ' : ' + convert_bytes(revjs[i][k]) + ' | '\n",
    "    print(txt)"
   ]
  },
  {
   "cell_type": "code",
   "execution_count": 4,
   "metadata": {},
   "outputs": [
    {
     "data": {
      "text/plain": [
       "[{'max': [3102659072], 'cur': [2985218560]},\n",
       " {'max': [3128611328, 10052261888], 'cur': [3011170816, 209035264]},\n",
       " {'max': [3154563584, 10052261888], 'cur': [3037123072, 156604928]},\n",
       " {'max': [3154563584], 'cur': [3003961856]},\n",
       " {'max': [3154563584], 'cur': [3016806912]},\n",
       " {'max': [3154563584, 10052261888], 'cur': [3023491584, 195661824]},\n",
       " {'max': [3154563584, 10052261888], 'cur': [3029651968, 182815232]},\n",
       " {'max': [3154563584], 'cur': [3022574080]},\n",
       " {'max': [3154563584], 'cur': [3025719808]},\n",
       " {'max': [3154563584, 10052261888], 'cur': [3027685888, 192248320]},\n",
       " {'max': [3154563584, 10052261888], 'cur': [3028865536, 189099520]},\n",
       " {'max': [3154563584], 'cur': [3026899456]},\n",
       " {'max': [3154563584], 'cur': [3027685888]},\n",
       " {'max': [3154563584, 10052261888], 'cur': [3028079104, 191056384]},\n",
       " {'max': [3154563584, 10052261888], 'cur': [3028472320, 190261760]},\n",
       " {'max': [3154563584], 'cur': [3027980800]},\n",
       " {'max': [3154563584], 'cur': [3028177408]},\n",
       " {'max': [3154563584, 10052261888], 'cur': [3028275712, 190820352]},\n",
       " {'max': [3154563584, 10052261888], 'cur': [3028374016, 190595072]},\n",
       " {'max': [3154563584, 10052261888], 'cur': [3028275712, 190959616]},\n",
       " {'max': [3154563584, 10052261888], 'cur': [3028374016, 190734336]},\n",
       " {'max': [3154563584], 'cur': [3028472320]},\n",
       " {'max': [3154563584, 10052261888], 'cur': [3029553664, 192394752]},\n",
       " {'max': [3154563584, 10052261888], 'cur': [3029946880, 191600128]},\n",
       " {'max': [3154563584], 'cur': [3030340096]},\n",
       " {'max': [3154563584, 10052261888], 'cur': [3034272256, 198673920]},\n",
       " {'max': [3154563584, 10052261888], 'cur': [3035451904, 195525120]},\n",
       " {'max': [3154563584], 'cur': [3037024768]},\n",
       " {'max': [3154563584, 10052261888], 'cur': [3051835904, 222785536]},\n",
       " {'max': [3154563584, 10052261888], 'cur': [3058258432, 209676800]},\n",
       " {'max': [3154563584], 'cur': [3064680960]},\n",
       " {'max': [3241759232, 10052261888], 'cur': [3124318720, 321478656]},\n",
       " {'max': [3267711488, 10052261888], 'cur': [3150270976, 269048320]},\n",
       " {'max': [3823718912], 'cur': [3460387328]},\n",
       " {'max': [7093703168], 'cur': [6730371584]}]"
      ]
     },
     "execution_count": 4,
     "metadata": {},
     "output_type": "execute_result"
    }
   ],
   "source": [
    "revjs['hookF']"
   ]
  },
  {
   "cell_type": "code",
   "execution_count": 5,
   "metadata": {},
   "outputs": [
    {
     "data": {
      "text/plain": [
       "[{'max': [10052261888], 'cur': [78227456]},\n",
       " {'max': [10052261888], 'cur': [260941312]},\n",
       " {'max': [10052261888], 'cur': [208510976]},\n",
       " {'max': [10052261888], 'cur': [202086912]},\n",
       " {'max': [10052261888], 'cur': [162240512]},\n",
       " {'max': [10052261888], 'cur': [208508416]},\n",
       " {'max': [10052261888], 'cur': [195661824]},\n",
       " {'max': [10052261888], 'cur': [194087424]},\n",
       " {'max': [10052261888], 'cur': [183994368]},\n",
       " {'max': [10052261888], 'cur': [195397120]},\n",
       " {'max': [10052261888], 'cur': [192248320]},\n",
       " {'max': [10052261888], 'cur': [191720960]},\n",
       " {'max': [10052261888], 'cur': [189099008]},\n",
       " {'max': [10052261888], 'cur': [191851008]},\n",
       " {'max': [10052261888], 'cur': [191056384]},\n",
       " {'max': [10052261888], 'cur': [190949888]},\n",
       " {'max': [10052261888], 'cur': [190358016]},\n",
       " {'max': [10052261888], 'cur': [191045632]},\n",
       " {'max': [10052261888], 'cur': [190820352]},\n",
       " {'max': [10052261888], 'cur': [191184896]},\n",
       " {'max': [10052261888], 'cur': [190959616]},\n",
       " {'max': [10052261888], 'cur': [191223808]},\n",
       " {'max': [10052261888], 'cur': [193189376]},\n",
       " {'max': [10052261888], 'cur': [192394752]},\n",
       " {'max': [10052261888], 'cur': [193827840]},\n",
       " {'max': [10052261888], 'cur': [201822720]},\n",
       " {'max': [10052261888], 'cur': [198673920]},\n",
       " {'max': [10052261888], 'cur': [203520000]},\n",
       " {'max': [10052261888], 'cur': [235632128]},\n",
       " {'max': [10052261888], 'cur': [222785536]},\n",
       " {'max': [10052261888], 'cur': [241788928]},\n",
       " {'max': [10052261888], 'cur': [373384704]},\n",
       " {'max': [10052261888], 'cur': [321478656]},\n",
       " {'max': [10052261888], 'cur': [553736192]},\n",
       " {'max': [10052261888], 'cur': [6730372608]}]"
      ]
     },
     "execution_count": 5,
     "metadata": {},
     "output_type": "execute_result"
    }
   ],
   "source": [
    "revjs['hookB']"
   ]
  },
  {
   "cell_type": "code",
   "execution_count": 6,
   "metadata": {},
   "outputs": [],
   "source": [
    "frev_cur, frev_max, brev_cur, brev_max = [], [], [], []\n",
    "for fk, bk in zip(revjs['hookF'], revjs['hookB']):\n",
    "    frev_cur.append(fk['cur'][0])\n",
    "    frev_max.append(fk['max'][0])\n",
    "    brev_cur.append(bk['cur'][0])\n",
    "    brev_max.append(bk['max'][0])"
   ]
  },
  {
   "cell_type": "code",
   "execution_count": 7,
   "metadata": {},
   "outputs": [
    {
     "data": {
      "image/png": "[encoded data removed]",
      "text/plain": [
       "<Figure size 432x288 with 1 Axes>"
      ]
     },
     "metadata": {
      "needs_background": "light"
     },
     "output_type": "display_data"
    },
    {
     "data": {
      "image/png": "[encoded data removed]",
      "text/plain": [
       "<Figure size 432x288 with 1 Axes>"
      ]
     },
     "metadata": {
      "needs_background": "light"
     },
     "output_type": "display_data"
    }
   ],
   "source": [
    "x1, x2 = list(range(len(frev_cur))), list(range(len(frev_cur),len(frev_cur)+len(brev_cur)))\n",
    "plt.plot(x1+x2,frev_cur + list(reversed(brev_cur)))\n",
    "plt.plot(x1,frev_cur, 'o', label = 'forward')\n",
    "plt.plot(x2,list(reversed(brev_cur)), 'o', label = 'backward')\n",
    "plt.legend()\n",
    "plt.title('Current memory allocated')\n",
    "plt.show()\n",
    "\n",
    "\n",
    "plt.plot(x1+x2,frev_max + list(reversed(brev_max)))\n",
    "plt.plot(x1,frev_max, 'o', label = 'forward')\n",
    "plt.plot(x2,list(reversed(brev_max)), 'o', label = 'backward')\n",
    "plt.legend()\n",
    "plt.title('Maximum memory allocated')\n",
    "plt.show()"
   ]
  },
  {
   "cell_type": "code",
   "execution_count": 8,
   "metadata": {},
   "outputs": [
    {
     "name": "stdout",
     "output_type": "stream",
     "text": [
      "2.89 GB\n",
      "2.91 GB\n",
      "2.94 GB\n",
      "2.94 GB\n",
      "2.94 GB\n",
      "2.94 GB\n",
      "2.94 GB\n",
      "2.94 GB\n",
      "2.94 GB\n",
      "2.94 GB\n",
      "2.94 GB\n",
      "2.94 GB\n",
      "2.94 GB\n",
      "2.94 GB\n",
      "2.94 GB\n",
      "2.94 GB\n",
      "2.94 GB\n",
      "2.94 GB\n",
      "2.94 GB\n",
      "2.94 GB\n",
      "2.94 GB\n",
      "2.94 GB\n",
      "2.94 GB\n",
      "2.94 GB\n",
      "2.94 GB\n",
      "2.94 GB\n",
      "2.94 GB\n",
      "2.94 GB\n",
      "2.94 GB\n",
      "2.94 GB\n",
      "2.94 GB\n",
      "3.02 GB\n",
      "3.04 GB\n",
      "3.56 GB\n",
      "6.61 GB\n"
     ]
    }
   ],
   "source": [
    "for i in frev_max:\n",
    "    print(convert_bytes(i))"
   ]
  },
  {
   "cell_type": "code",
   "execution_count": null,
   "metadata": {},
   "outputs": [],
   "source": []
  },
  {
   "cell_type": "code",
   "execution_count": null,
   "metadata": {},
   "outputs": [],
   "source": []
  },
  {
   "cell_type": "code",
   "execution_count": null,
   "metadata": {},
   "outputs": [],
   "source": []
  },
  {
   "cell_type": "code",
   "execution_count": null,
   "metadata": {},
   "outputs": [],
   "source": []
  },
  {
   "cell_type": "code",
   "execution_count": null,
   "metadata": {},
   "outputs": [],
   "source": []
  }
 ],
 "metadata": {
  "kernelspec": {
   "display_name": "Python 3",
   "language": "python",
   "name": "python3"
  },
  "language_info": {
   "codemirror_mode": {
    "name": "ipython",
    "version": 3
   },
   "file_extension": ".py",
   "mimetype": "text/x-python",
   "name": "python",
   "nbconvert_exporter": "python",
   "pygments_lexer": "ipython3",
   "version": "3.6.10"
  }
 },
 "nbformat": 4,
 "nbformat_minor": 4
}
