{
 "cells": [
  {
   "cell_type": "code",
   "execution_count": 1,
   "metadata": {},
   "outputs": [],
   "source": [
    "import numpy as np\n",
    "import matplotlib.pyplot as plt\n",
    "import json\n",
    "\n"
   ]
  },
  {
   "cell_type": "code",
   "execution_count": 5,
   "metadata": {},
   "outputs": [],
   "source": [
    "def convert_bytes(size):\n",
    "    for x in ['bytes', 'KB', 'MB', 'GB', 'TB']:\n",
    "        if size < 1024.0:\n",
    "            return \"%3.2f %s\" % (size, x)\n",
    "        size /= 1024.0\n",
    "\n",
    "    return size"
   ]
  },
  {
   "cell_type": "code",
   "execution_count": 61,
   "metadata": {},
   "outputs": [],
   "source": [
    "with open('./callback_memory.json', 'r') as f:\n",
    "    js = json.load(f)"
   ]
  },
  {
   "cell_type": "code",
   "execution_count": 62,
   "metadata": {},
   "outputs": [
    {
     "name": "stdout",
     "output_type": "stream",
     "text": [
      "model : max : 91.57 MB | cur : 91.57 MB | \n",
      "input : max : 91.77 MB | cur : 91.77 MB | \n",
      "output : max : 2.80 GB | cur : 2.80 GB | \n",
      "forward : max : 5.57 GB | cur : 5.57 GB | \n",
      "loss : max : 5.76 GB | cur : 5.57 GB | \n",
      "backward : max : 8.67 GB | cur : 182.43 MB | \n",
      "step : max : 8.67 GB | cur : 182.43 MB | \n"
     ]
    }
   ],
   "source": [
    "for i in list(js.keys())[:-2]:\n",
    "    txt = i +' : '\n",
    "    for k in list(js[i]):\n",
    "        txt += k + ' : ' + convert_bytes(js[i][k]) + ' | '\n",
    "    print(txt)"
   ]
  },
  {
   "cell_type": "code",
   "execution_count": 64,
   "metadata": {},
   "outputs": [],
   "source": [
    "f_cur, f_max, b_cur, b_max = [], [], [], []\n",
    "for fk, bk in zip(js['hookF'], js['hookB']):\n",
    "    f_cur.append(fk['cur'][0])\n",
    "    f_max.append(fk['max'][0])\n",
    "    b_cur.append(bk['cur'][0])\n",
    "    b_max.append(bk['max'][0])"
   ]
  },
  {
   "cell_type": "code",
   "execution_count": 66,
   "metadata": {},
   "outputs": [
    {
     "data": {
      "image/png": "[encoded data removed]",
      "text/plain": [
       "<Figure size 432x288 with 1 Axes>"
      ]
     },
     "metadata": {
      "needs_background": "light"
     },
     "output_type": "display_data"
    },
    {
     "data": {
      "image/png": "[encoded data removed]",
      "text/plain": [
       "<Figure size 432x288 with 1 Axes>"
      ]
     },
     "metadata": {
      "needs_background": "light"
     },
     "output_type": "display_data"
    }
   ],
   "source": [
    "x1, x2 = list(range(len(f_cur))), list(range(len(f_cur),len(f_cur)+len(b_cur)))\n",
    "plt.plot(x1+x2,f_cur + list(reversed(b_cur)))\n",
    "plt.plot(x1,f_cur, 'o', label = 'forward')\n",
    "plt.plot(x2,list(reversed(b_cur)), 'o', label = 'backward')\n",
    "plt.legend()\n",
    "plt.title('Current memory allocated')\n",
    "plt.show()\n",
    "\n",
    "\n",
    "plt.plot(x1+x2,f_max + list(reversed(b_max)))\n",
    "plt.plot(x1,f_max, 'o', label = 'forward')\n",
    "plt.plot(x2,list(reversed(b_max)), 'o', label = 'backward')\n",
    "plt.legend()\n",
    "plt.title('Maximum memory allocated')\n",
    "plt.show()"
   ]
  },
  {
   "cell_type": "markdown",
   "metadata": {},
   "source": [
    "# RevUNet"
   ]
  },
  {
   "cell_type": "code",
   "execution_count": 69,
   "metadata": {},
   "outputs": [
    {
     "name": "stdout",
     "output_type": "stream",
     "text": [
      "model : max : 37.33 MB | cur : 37.33 MB | \n",
      "input : max : 37.53 MB | cur : 37.53 MB | \n",
      "output : max : 2.74 GB | cur : 2.74 GB | \n",
      "forward : max : 5.48 GB | cur : 5.48 GB | \n",
      "loss : max : 5.67 GB | cur : 5.48 GB | \n",
      "backward : max : 8.57 GB | cur : 74.73 MB | \n",
      "step : max : 8.57 GB | cur : 74.73 MB | \n"
     ]
    }
   ],
   "source": [
    "with open('./callback_rev_memory.json', 'r') as f:\n",
    "    revjs = json.load(f)\n",
    "    \n",
    "    \n",
    "for i in list(revjs.keys())[:-2]:\n",
    "    txt = i +' : '\n",
    "    for k in list(revjs[i]):\n",
    "        txt += k + ' : ' + convert_bytes(revjs[i][k]) + ' | '\n",
    "    print(txt)"
   ]
  },
  {
   "cell_type": "code",
   "execution_count": 71,
   "metadata": {},
   "outputs": [
    {
     "data": {
      "text/plain": [
       "[{'max': [2952661504], 'cur': [2952661504]},\n",
       " {'max': [], 'cur': []},\n",
       " {'max': [], 'cur': []},\n",
       " {'max': [2980846592], 'cur': [2971273728]},\n",
       " {'max': [2980846592], 'cur': [2974187008]},\n",
       " {'max': [5883752960], 'cur': [5880839680]}]"
      ]
     },
     "execution_count": 71,
     "metadata": {},
     "output_type": "execute_result"
    }
   ],
   "source": [
    "revjs['hookF']"
   ]
  },
  {
   "cell_type": "code",
   "execution_count": 72,
   "metadata": {},
   "outputs": [
    {
     "data": {
      "text/plain": [
       "[{'max': [9202729984], 'cur': [85228544]},\n",
       " {'max': [], 'cur': []},\n",
       " {'max': [], 'cur': []},\n",
       " {'max': [9202729984], 'cur': [63790592]},\n",
       " {'max': [9202729984], 'cur': [2977101312]},\n",
       " {'max': [9202729984], 'cur': [5880840704]}]"
      ]
     },
     "execution_count": 72,
     "metadata": {},
     "output_type": "execute_result"
    }
   ],
   "source": [
    "revjs['hookB']"
   ]
  },
  {
   "cell_type": "code",
   "execution_count": 70,
   "metadata": {},
   "outputs": [
    {
     "ename": "IndexError",
     "evalue": "list index out of range",
     "output_type": "error",
     "traceback": [
      "\u001b[0;31m---------------------------------------------------------------------------\u001b[0m",
      "\u001b[0;31mIndexError\u001b[0m                                Traceback (most recent call last)",
      "\u001b[0;32m<ipython-input-70-93ac88dd82c2>\u001b[0m in \u001b[0;36m<module>\u001b[0;34m\u001b[0m\n\u001b[1;32m      1\u001b[0m \u001b[0mfrev_cur\u001b[0m\u001b[0;34m,\u001b[0m \u001b[0mfrev_max\u001b[0m\u001b[0;34m,\u001b[0m \u001b[0mbrev_cur\u001b[0m\u001b[0;34m,\u001b[0m \u001b[0mbrev_max\u001b[0m \u001b[0;34m=\u001b[0m \u001b[0;34m[\u001b[0m\u001b[0;34m]\u001b[0m\u001b[0;34m,\u001b[0m \u001b[0;34m[\u001b[0m\u001b[0;34m]\u001b[0m\u001b[0;34m,\u001b[0m \u001b[0;34m[\u001b[0m\u001b[0;34m]\u001b[0m\u001b[0;34m,\u001b[0m \u001b[0;34m[\u001b[0m\u001b[0;34m]\u001b[0m\u001b[0;34m\u001b[0m\u001b[0;34m\u001b[0m\u001b[0m\n\u001b[1;32m      2\u001b[0m \u001b[0;32mfor\u001b[0m \u001b[0mfk\u001b[0m\u001b[0;34m,\u001b[0m \u001b[0mbk\u001b[0m \u001b[0;32min\u001b[0m \u001b[0mzip\u001b[0m\u001b[0;34m(\u001b[0m\u001b[0mrevjs\u001b[0m\u001b[0;34m[\u001b[0m\u001b[0;34m'hookF'\u001b[0m\u001b[0;34m]\u001b[0m\u001b[0;34m,\u001b[0m \u001b[0mrevjs\u001b[0m\u001b[0;34m[\u001b[0m\u001b[0;34m'hookB'\u001b[0m\u001b[0;34m]\u001b[0m\u001b[0;34m)\u001b[0m\u001b[0;34m:\u001b[0m\u001b[0;34m\u001b[0m\u001b[0;34m\u001b[0m\u001b[0m\n\u001b[0;32m----> 3\u001b[0;31m     \u001b[0mfrev_cur\u001b[0m\u001b[0;34m.\u001b[0m\u001b[0mappend\u001b[0m\u001b[0;34m(\u001b[0m\u001b[0mfk\u001b[0m\u001b[0;34m[\u001b[0m\u001b[0;34m'cur'\u001b[0m\u001b[0;34m]\u001b[0m\u001b[0;34m[\u001b[0m\u001b[0;36m0\u001b[0m\u001b[0;34m]\u001b[0m\u001b[0;34m)\u001b[0m\u001b[0;34m\u001b[0m\u001b[0;34m\u001b[0m\u001b[0m\n\u001b[0m\u001b[1;32m      4\u001b[0m     \u001b[0mfrev_max\u001b[0m\u001b[0;34m.\u001b[0m\u001b[0mappend\u001b[0m\u001b[0;34m(\u001b[0m\u001b[0mfk\u001b[0m\u001b[0;34m[\u001b[0m\u001b[0;34m'max'\u001b[0m\u001b[0;34m]\u001b[0m\u001b[0;34m[\u001b[0m\u001b[0;36m0\u001b[0m\u001b[0;34m]\u001b[0m\u001b[0;34m)\u001b[0m\u001b[0;34m\u001b[0m\u001b[0;34m\u001b[0m\u001b[0m\n\u001b[1;32m      5\u001b[0m     \u001b[0mbrev_cur\u001b[0m\u001b[0;34m.\u001b[0m\u001b[0mappend\u001b[0m\u001b[0;34m(\u001b[0m\u001b[0mbk\u001b[0m\u001b[0;34m[\u001b[0m\u001b[0;34m'cur'\u001b[0m\u001b[0;34m]\u001b[0m\u001b[0;34m[\u001b[0m\u001b[0;36m0\u001b[0m\u001b[0;34m]\u001b[0m\u001b[0;34m)\u001b[0m\u001b[0;34m\u001b[0m\u001b[0;34m\u001b[0m\u001b[0m\n",
      "\u001b[0;31mIndexError\u001b[0m: list index out of range"
     ]
    }
   ],
   "source": [
    "frev_cur, frev_max, brev_cur, brev_max = [], [], [], []\n",
    "for fk, bk in zip(revjs['hookF'], revjs['hookB']):\n",
    "    frev_cur.append(fk['cur'][0])\n",
    "    frev_max.append(fk['max'][0])\n",
    "    brev_cur.append(bk['cur'][0])\n",
    "    brev_max.append(bk['max'][0])"
   ]
  },
  {
   "cell_type": "code",
   "execution_count": 53,
   "metadata": {},
   "outputs": [
    {
     "data": {
      "image/png": "[encoded data removed]",
      "text/plain": [
       "<Figure size 432x288 with 1 Axes>"
      ]
     },
     "metadata": {
      "needs_background": "light"
     },
     "output_type": "display_data"
    },
    {
     "data": {
      "image/png": "[encoded data removed]",
      "text/plain": [
       "<Figure size 432x288 with 1 Axes>"
      ]
     },
     "metadata": {
      "needs_background": "light"
     },
     "output_type": "display_data"
    }
   ],
   "source": [
    "x1, x2 = list(range(len(f_cur))), list(range(len(f_cur),len(f_cur)+len(b_cur)))\n",
    "plt.plot(x1+x2,f_cur + list(reversed(b_cur)))\n",
    "plt.plot(x1,f_cur, 'o', label = 'forward')\n",
    "plt.plot(x2,list(reversed(b_cur)), 'o', label = 'backward')\n",
    "plt.legend()\n",
    "plt.title('Current memory allocated')\n",
    "plt.show()\n",
    "\n",
    "\n",
    "plt.plot(x1+x2,f_max + list(reversed(b_max)))\n",
    "plt.plot(x1,f_max, 'o', label = 'forward')\n",
    "plt.plot(x2,list(reversed(b_max)), 'o', label = 'backward')\n",
    "plt.legend()\n",
    "plt.title('Maximum memory allocated')\n",
    "plt.show()"
   ]
  },
  {
   "cell_type": "code",
   "execution_count": null,
   "metadata": {},
   "outputs": [],
   "source": []
  },
  {
   "cell_type": "code",
   "execution_count": null,
   "metadata": {},
   "outputs": [],
   "source": []
  },
  {
   "cell_type": "code",
   "execution_count": null,
   "metadata": {},
   "outputs": [],
   "source": []
  },
  {
   "cell_type": "code",
   "execution_count": null,
   "metadata": {},
   "outputs": [],
   "source": []
  },
  {
   "cell_type": "code",
   "execution_count": null,
   "metadata": {},
   "outputs": [],
   "source": []
  },
  {
   "cell_type": "code",
   "execution_count": null,
   "metadata": {},
   "outputs": [],
   "source": []
  }
 ],
 "metadata": {
  "kernelspec": {
   "display_name": "Python 3",
   "language": "python",
   "name": "python3"
  },
  "language_info": {
   "codemirror_mode": {
    "name": "ipython",
    "version": 3
   },
   "file_extension": ".py",
   "mimetype": "text/x-python",
   "name": "python",
   "nbconvert_exporter": "python",
   "pygments_lexer": "ipython3",
   "version": "3.7.9"
  }
 },
 "nbformat": 4,
 "nbformat_minor": 4
}
