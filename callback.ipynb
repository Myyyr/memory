{
 "cells": [
  {
   "cell_type": "code",
   "execution_count": 1,
   "metadata": {},
   "outputs": [],
   "source": [
    "import numpy as np\n",
    "import matplotlib.pyplot as plt\n",
    "import json\n",
    "\n"
   ]
  },
  {
   "cell_type": "code",
   "execution_count": 2,
   "metadata": {},
   "outputs": [],
   "source": [
    "def convert_bytes(size):\n",
    "    for x in ['bytes', 'KB', 'MB', 'GB', 'TB']:\n",
    "        if size < 1024.0:\n",
    "            return \"%3.2f %s\" % (size, x)\n",
    "        size /= 1024.0\n",
    "\n",
    "    return size"
   ]
  },
  {
   "cell_type": "code",
   "execution_count": 61,
   "metadata": {},
   "outputs": [],
   "source": [
    "with open('./callback_memory.json', 'r') as f:\n",
    "    js = json.load(f)"
   ]
  },
  {
   "cell_type": "code",
   "execution_count": 62,
   "metadata": {},
   "outputs": [
    {
     "name": "stdout",
     "output_type": "stream",
     "text": [
      "model : max : 91.57 MB | cur : 91.57 MB | \n",
      "input : max : 91.77 MB | cur : 91.77 MB | \n",
      "output : max : 2.80 GB | cur : 2.80 GB | \n",
      "forward : max : 5.57 GB | cur : 5.57 GB | \n",
      "loss : max : 5.76 GB | cur : 5.57 GB | \n",
      "backward : max : 8.67 GB | cur : 182.43 MB | \n",
      "step : max : 8.67 GB | cur : 182.43 MB | \n"
     ]
    }
   ],
   "source": [
    "for i in list(js.keys())[:-2]:\n",
    "    txt = i +' : '\n",
    "    for k in list(js[i]):\n",
    "        txt += k + ' : ' + convert_bytes(js[i][k]) + ' | '\n",
    "    print(txt)"
   ]
  },
  {
   "cell_type": "code",
   "execution_count": 64,
   "metadata": {},
   "outputs": [],
   "source": [
    "f_cur, f_max, b_cur, b_max = [], [], [], []\n",
    "for fk, bk in zip(js['hookF'], js['hookB']):\n",
    "    f_cur.append(fk['cur'][0])\n",
    "    f_max.append(fk['max'][0])\n",
    "    b_cur.append(bk['cur'][0])\n",
    "    b_max.append(bk['max'][0])"
   ]
  },
  {
   "cell_type": "code",
   "execution_count": 66,
   "metadata": {},
   "outputs": [
    {
     "data": {
      "image/png": "[encoded data removed]",
      "text/plain": [
       "<Figure size 432x288 with 1 Axes>"
      ]
     },
     "metadata": {
      "needs_background": "light"
     },
     "output_type": "display_data"
    },
    {
     "data": {
      "image/png": "[encoded data removed]",
      "text/plain": [
       "<Figure size 432x288 with 1 Axes>"
      ]
     },
     "metadata": {
      "needs_background": "light"
     },
     "output_type": "display_data"
    }
   ],
   "source": [
    "x1, x2 = list(range(len(f_cur))), list(range(len(f_cur),len(f_cur)+len(b_cur)))\n",
    "plt.plot(x1+x2,f_cur + list(reversed(b_cur)))\n",
    "plt.plot(x1,f_cur, 'o', label = 'forward')\n",
    "plt.plot(x2,list(reversed(b_cur)), 'o', label = 'backward')\n",
    "plt.legend()\n",
    "plt.title('Current memory allocated')\n",
    "plt.show()\n",
    "\n",
    "\n",
    "plt.plot(x1+x2,f_max + list(reversed(b_max)))\n",
    "plt.plot(x1,f_max, 'o', label = 'forward')\n",
    "plt.plot(x2,list(reversed(b_max)), 'o', label = 'backward')\n",
    "plt.legend()\n",
    "plt.title('Maximum memory allocated')\n",
    "plt.show()"
   ]
  },
  {
   "cell_type": "markdown",
   "metadata": {},
   "source": [
    "# RevUNet"
   ]
  },
  {
   "cell_type": "code",
   "execution_count": 3,
   "metadata": {},
   "outputs": [
    {
     "name": "stdout",
     "output_type": "stream",
     "text": [
      "model : max : 37.33 MB | cur : 37.33 MB | \n",
      "input : max : 37.53 MB | cur : 37.53 MB | \n",
      "output : max : 2.74 GB | cur : 2.74 GB | \n",
      "forward : max : 5.48 GB | cur : 5.48 GB | \n",
      "loss : max : 5.67 GB | cur : 5.48 GB | \n",
      "backward : max : 8.57 GB | cur : 74.73 MB | \n",
      "step : max : 8.57 GB | cur : 74.73 MB | \n"
     ]
    }
   ],
   "source": [
    "with open('./callback_rev_memory.json', 'r') as f:\n",
    "    revjs = json.load(f)\n",
    "    \n",
    "    \n",
    "for i in list(revjs.keys())[:-2]:\n",
    "    txt = i +' : '\n",
    "    for k in list(revjs[i]):\n",
    "        txt += k + ' : ' + convert_bytes(revjs[i][k]) + ' | '\n",
    "    print(txt)"
   ]
  },
  {
   "cell_type": "code",
   "execution_count": 4,
   "metadata": {},
   "outputs": [
    {
     "data": {
      "text/plain": [
       "[{'max': [2952661504], 'cur': [2952661504]},\n",
       " {'max': [2955991040, 9202729984], 'cur': [2955991040, 102995456]},\n",
       " {'max': [2962650112, 9202729984], 'cur': [2959320576, 96151040]},\n",
       " {'max': [2966974464], 'cur': [2956057088]},\n",
       " {'max': [2966974464], 'cur': [2957903360]},\n",
       " {'max': [2966974464, 9202729984], 'cur': [2958703616, 100791296]},\n",
       " {'max': [2966974464, 9202729984], 'cur': [2959503872, 99079168]},\n",
       " {'max': [2966974464], 'cur': [2958210048]},\n",
       " {'max': [2966974464], 'cur': [2958578688]},\n",
       " {'max': [2966974464, 9202729984], 'cur': [2958763008, 99556352]},\n",
       " {'max': [2966974464, 9202729984], 'cur': [2958947328, 98744320]},\n",
       " {'max': [2966974464], 'cur': [2958689280]},\n",
       " {'max': [2966974464], 'cur': [2958763008]},\n",
       " {'max': [2966974464, 9202729984], 'cur': [2958799872, 97026048]},\n",
       " {'max': [2966974464, 9202729984], 'cur': [2958836736, 95181824]},\n",
       " {'max': [2966974464], 'cur': [2958790656]},\n",
       " {'max': [2966974464], 'cur': [2958809088]},\n",
       " {'max': [2966974464, 9202729984], 'cur': [2958818304, 87630848]},\n",
       " {'max': [2966974464, 9202729984], 'cur': [2958827520, 80532480]},\n",
       " {'max': [2966974464, 9202729984], 'cur': [2958818304, 73489408]},\n",
       " {'max': [2966974464, 9202729984], 'cur': [2958827520, 66391040]},\n",
       " {'max': [2966974464], 'cur': [2958836736]},\n",
       " {'max': [2966974464, 9202729984], 'cur': [2958938112, 64251904]},\n",
       " {'max': [2966974464, 9202729984], 'cur': [2958974976, 62330880]},\n",
       " {'max': [2966974464], 'cur': [2959011840]},\n",
       " {'max': [2966974464, 9202729984], 'cur': [2959454208, 62566912]},\n",
       " {'max': [2966974464, 9202729984], 'cur': [2959638528, 61754880]},\n",
       " {'max': [2966974464], 'cur': [2959822848]},\n",
       " {'max': [2966974464, 9202729984], 'cur': [2961916416, 65304064]},\n",
       " {'max': [2966974464, 9202729984], 'cur': [2962716672, 63591936]},\n",
       " {'max': [2966974464], 'cur': [2963516416]},\n",
       " {'max': [2975902720, 9202729984], 'cur': [2970857984, 78550528]},\n",
       " {'max': [2977517056, 9202729984], 'cur': [2974187520, 70867456]},\n",
       " {'max': [2980846592], 'cur': [2971273728]},\n",
       " {'max': [5883752960], 'cur': [5880839680]}]"
      ]
     },
     "execution_count": 4,
     "metadata": {},
     "output_type": "execute_result"
    }
   ],
   "source": [
    "revjs['hookF']"
   ]
  },
  {
   "cell_type": "code",
   "execution_count": 5,
   "metadata": {},
   "outputs": [
    {
     "data": {
      "text/plain": [
       "[{'max': [9202729984], 'cur': [85228544]},\n",
       " {'max': [9202729984], 'cur': [109683200]},\n",
       " {'max': [9202729984], 'cur': [102838784]},\n",
       " {'max': [9202729984], 'cur': [102037504]},\n",
       " {'max': [9202729984], 'cur': [96813568]},\n",
       " {'max': [9202729984], 'cur': [102503424]},\n",
       " {'max': [9202729984], 'cur': [100791296]},\n",
       " {'max': [9202729984], 'cur': [100342784]},\n",
       " {'max': [9202729984], 'cur': [99078656]},\n",
       " {'max': [9202729984], 'cur': [100368384]},\n",
       " {'max': [9202729984], 'cur': [99556352]},\n",
       " {'max': [9202729984], 'cur': [99039232]},\n",
       " {'max': [9202729984], 'cur': [98613248]},\n",
       " {'max': [9202729984], 'cur': [98870272]},\n",
       " {'max': [9202729984], 'cur': [97026048]},\n",
       " {'max': [9202729984], 'cur': [95246336]},\n",
       " {'max': [9202729984], 'cur': [94666752]},\n",
       " {'max': [9202729984], 'cur': [94729216]},\n",
       " {'max': [9202729984], 'cur': [87630848]},\n",
       " {'max': [9202729984], 'cur': [80587776]},\n",
       " {'max': [9202729984], 'cur': [73489408]},\n",
       " {'max': [9202729984], 'cur': [65912832]},\n",
       " {'max': [9202729984], 'cur': [66096128]},\n",
       " {'max': [9202729984], 'cur': [64251904]},\n",
       " {'max': [9202729984], 'cur': [62384128]},\n",
       " {'max': [9202729984], 'cur': [63378944]},\n",
       " {'max': [9202729984], 'cur': [62566912]},\n",
       " {'max': [9202729984], 'cur': [62769152]},\n",
       " {'max': [9202729984], 'cur': [67016192]},\n",
       " {'max': [9202729984], 'cur': [65304064]},\n",
       " {'max': [9202729984], 'cur': [67595776]},\n",
       " {'max': [9202729984], 'cur': [85238272]},\n",
       " {'max': [9202729984], 'cur': [78550528]},\n",
       " {'max': [9202729984], 'cur': [63790592]},\n",
       " {'max': [9202729984], 'cur': [5880840704]}]"
      ]
     },
     "execution_count": 5,
     "metadata": {},
     "output_type": "execute_result"
    }
   ],
   "source": [
    "revjs['hookB']"
   ]
  },
  {
   "cell_type": "code",
   "execution_count": 6,
   "metadata": {},
   "outputs": [],
   "source": [
    "frev_cur, frev_max, brev_cur, brev_max = [], [], [], []\n",
    "for fk, bk in zip(revjs['hookF'], revjs['hookB']):\n",
    "    frev_cur.append(fk['cur'][0])\n",
    "    frev_max.append(fk['max'][0])\n",
    "    brev_cur.append(bk['cur'][0])\n",
    "    brev_max.append(bk['max'][0])"
   ]
  },
  {
   "cell_type": "code",
   "execution_count": 8,
   "metadata": {},
   "outputs": [
    {
     "data": {
      "image/png": "[encoded data removed]",
      "text/plain": [
       "<Figure size 432x288 with 1 Axes>"
      ]
     },
     "metadata": {
      "needs_background": "light"
     },
     "output_type": "display_data"
    },
    {
     "data": {
      "image/png": "[encoded data removed]",
      "text/plain": [
       "<Figure size 432x288 with 1 Axes>"
      ]
     },
     "metadata": {
      "needs_background": "light"
     },
     "output_type": "display_data"
    }
   ],
   "source": [
    "x1, x2 = list(range(len(frev_cur))), list(range(len(frev_cur),len(frev_cur)+len(brev_cur)))\n",
    "plt.plot(x1+x2,frev_cur + list(reversed(brev_cur)))\n",
    "plt.plot(x1,frev_cur, 'o', label = 'forward')\n",
    "plt.plot(x2,list(reversed(brev_cur)), 'o', label = 'backward')\n",
    "plt.legend()\n",
    "plt.title('Current memory allocated')\n",
    "plt.show()\n",
    "\n",
    "\n",
    "plt.plot(x1+x2,frev_max + list(reversed(brev_max)))\n",
    "plt.plot(x1,frev_max, 'o', label = 'forward')\n",
    "plt.plot(x2,list(reversed(brev_max)), 'o', label = 'backward')\n",
    "plt.legend()\n",
    "plt.title('Maximum memory allocated')\n",
    "plt.show()"
   ]
  },
  {
   "cell_type": "code",
   "execution_count": null,
   "metadata": {},
   "outputs": [],
   "source": []
  },
  {
   "cell_type": "code",
   "execution_count": null,
   "metadata": {},
   "outputs": [],
   "source": []
  },
  {
   "cell_type": "code",
   "execution_count": null,
   "metadata": {},
   "outputs": [],
   "source": []
  },
  {
   "cell_type": "code",
   "execution_count": null,
   "metadata": {},
   "outputs": [],
   "source": []
  },
  {
   "cell_type": "code",
   "execution_count": null,
   "metadata": {},
   "outputs": [],
   "source": []
  },
  {
   "cell_type": "code",
   "execution_count": null,
   "metadata": {},
   "outputs": [],
   "source": []
  }
 ],
 "metadata": {
  "kernelspec": {
   "display_name": "Python 3",
   "language": "python",
   "name": "python3"
  },
  "language_info": {
   "codemirror_mode": {
    "name": "ipython",
    "version": 3
   },
   "file_extension": ".py",
   "mimetype": "text/x-python",
   "name": "python",
   "nbconvert_exporter": "python",
   "pygments_lexer": "ipython3",
   "version": "3.6.10"
  }
 },
 "nbformat": 4,
 "nbformat_minor": 4
}
