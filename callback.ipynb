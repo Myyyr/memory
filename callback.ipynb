{
 "cells": [
  {
   "cell_type": "code",
   "execution_count": 1,
   "metadata": {},
   "outputs": [],
   "source": [
    "import numpy as np\n",
    "import matplotlib.pyplot as plt\n",
    "import json\n",
    "\n"
   ]
  },
  {
   "cell_type": "code",
   "execution_count": 5,
   "metadata": {},
   "outputs": [],
   "source": [
    "def convert_bytes(size):\n",
    "    for x in ['bytes', 'KB', 'MB', 'GB', 'TB']:\n",
    "        if size < 1024.0:\n",
    "            return \"%3.2f %s\" % (size, x)\n",
    "        size /= 1024.0\n",
    "\n",
    "    return size"
   ]
  },
  {
   "cell_type": "code",
   "execution_count": 3,
   "metadata": {},
   "outputs": [],
   "source": [
    "with open('./callback_memory.json', 'r') as f:\n",
    "    js = json.load(f)"
   ]
  },
  {
   "cell_type": "code",
   "execution_count": 9,
   "metadata": {},
   "outputs": [
    {
     "name": "stdout",
     "output_type": "stream",
     "text": [
      "model : max : 91.57 MB | cur : 91.57 MB | \n",
      "input : max : 91.77 MB | cur : 91.77 MB | \n",
      "output : max : 2.80 GB | cur : 2.80 GB | \n",
      "forward : max : 5.57 GB | cur : 5.57 GB | \n",
      "loss : max : 5.76 GB | cur : 5.57 GB | \n",
      "backward : max : 10.99 GB | cur : 5.59 GB | \n",
      "step : max : 10.99 GB | cur : 5.59 GB | \n"
     ]
    }
   ],
   "source": [
    "for i in list(js.keys())[:-2]:\n",
    "    txt = i +' : '\n",
    "    for k in list(js[i]):\n",
    "        txt += k + ' : ' + convert_bytes(js[i][k]) + ' | '\n",
    "    print(txt)"
   ]
  },
  {
   "cell_type": "code",
   "execution_count": 17,
   "metadata": {},
   "outputs": [
    {
     "name": "stdout",
     "output_type": "stream",
     "text": [
      "2.82 GB 2.81 GB\n",
      "2.82 GB 2.81 GB\n",
      "2.82 GB 2.81 GB\n",
      "2.82 GB 2.82 GB\n",
      "2.82 GB 2.82 GB\n",
      "2.82 GB 2.82 GB\n",
      "2.82 GB 2.82 GB\n",
      "2.82 GB 2.82 GB\n",
      "2.82 GB 2.82 GB\n",
      "2.82 GB 2.82 GB\n",
      "2.82 GB 2.82 GB\n",
      "2.83 GB 2.83 GB\n",
      "2.88 GB 2.86 GB\n",
      "2.88 GB 2.86 GB\n",
      "2.88 GB 2.86 GB\n",
      "5.57 GB 5.57 GB\n"
     ]
    }
   ],
   "source": [
    "f_max = []\n",
    "f_cur = []\n",
    "for j in js['hookF']:\n",
    "    f_max.append(j['max'][0])\n",
    "    f_cur.append(j['cur'][0])\n",
    "    print(convert_bytes(j['max'][0]), convert_bytes(j['cur'][0]))"
   ]
  },
  {
   "cell_type": "code",
   "execution_count": 19,
   "metadata": {},
   "outputs": [
    {
     "data": {
      "image/png": "[encoded data removed]",
      "text/plain": [
       "<Figure size 432x288 with 1 Axes>"
      ]
     },
     "metadata": {
      "needs_background": "light"
     },
     "output_type": "display_data"
    }
   ],
   "source": [
    "plt.plot(f_max)\n",
    "#plt.plot(f_cur)\n",
    "plt.show()"
   ]
  },
  {
   "cell_type": "code",
   "execution_count": 29,
   "metadata": {},
   "outputs": [
    {
     "name": "stdout",
     "output_type": "stream",
     "text": [
      "10.99 GB 5.62 GB\n",
      "10.99 GB 5.63 GB\n",
      "10.99 GB 5.63 GB\n",
      "10.99 GB 5.64 GB\n",
      "10.99 GB 5.63 GB\n",
      "10.99 GB 5.63 GB\n",
      "10.99 GB 5.62 GB\n",
      "10.99 GB 5.62 GB\n",
      "10.99 GB 5.58 GB\n",
      "10.99 GB 5.56 GB\n",
      "10.99 GB 5.55 GB\n",
      "10.99 GB 5.57 GB\n",
      "10.99 GB 5.58 GB\n",
      "10.99 GB 5.57 GB\n",
      "10.99 GB 8.28 GB\n",
      "10.99 GB 10.99 GB\n"
     ]
    }
   ],
   "source": [
    "b_max = []\n",
    "b_cur = []\n",
    "for j in js['hookB']:\n",
    "    b_max.append(j['max'][0])\n",
    "    b_cur.append(j['cur'][0])\n",
    "    print(convert_bytes(j['max'][0]), convert_bytes(j['cur'][0]))"
   ]
  },
  {
   "cell_type": "code",
   "execution_count": 23,
   "metadata": {},
   "outputs": [
    {
     "data": {
      "image/png": "[encoded data removed]",
      "text/plain": [
       "<Figure size 432x288 with 1 Axes>"
      ]
     },
     "metadata": {
      "needs_background": "light"
     },
     "output_type": "display_data"
    }
   ],
   "source": [
    "#plt.plot(f_max)\n",
    "plt.plot(b_cur)\n",
    "plt.show()"
   ]
  },
  {
   "cell_type": "code",
   "execution_count": 38,
   "metadata": {},
   "outputs": [
    {
     "data": {
      "image/png": "[encoded data removed]",
      "text/plain": [
       "<Figure size 432x288 with 1 Axes>"
      ]
     },
     "metadata": {
      "needs_background": "light"
     },
     "output_type": "display_data"
    }
   ],
   "source": [
    "x1, x2 = list(range(len(f_cur))), list(range(len(f_cur),len(f_cur)+len(b_cur)))\n",
    "plt.plot(x1+x2,f_cur + list(reversed(b_cur)))\n",
    "plt.plot(x1,f_cur, 'o', label = 'forward')\n",
    "plt.plot(x2,list(reversed(b_cur)), 'o', label = 'backward')\n",
    "plt.legend()\n",
    "plt.show()"
   ]
  },
  {
   "cell_type": "code",
   "execution_count": null,
   "metadata": {},
   "outputs": [],
   "source": []
  },
  {
   "cell_type": "code",
   "execution_count": null,
   "metadata": {},
   "outputs": [],
   "source": []
  },
  {
   "cell_type": "code",
   "execution_count": null,
   "metadata": {},
   "outputs": [],
   "source": []
  },
  {
   "cell_type": "code",
   "execution_count": null,
   "metadata": {},
   "outputs": [],
   "source": []
  },
  {
   "cell_type": "code",
   "execution_count": null,
   "metadata": {},
   "outputs": [],
   "source": []
  },
  {
   "cell_type": "code",
   "execution_count": null,
   "metadata": {},
   "outputs": [],
   "source": []
  },
  {
   "cell_type": "code",
   "execution_count": null,
   "metadata": {},
   "outputs": [],
   "source": []
  },
  {
   "cell_type": "code",
   "execution_count": null,
   "metadata": {},
   "outputs": [],
   "source": []
  },
  {
   "cell_type": "code",
   "execution_count": null,
   "metadata": {},
   "outputs": [],
   "source": []
  },
  {
   "cell_type": "code",
   "execution_count": null,
   "metadata": {},
   "outputs": [],
   "source": []
  }
 ],
 "metadata": {
  "kernelspec": {
   "display_name": "Python 3",
   "language": "python",
   "name": "python3"
  },
  "language_info": {
   "codemirror_mode": {
    "name": "ipython",
    "version": 3
   },
   "file_extension": ".py",
   "mimetype": "text/x-python",
   "name": "python",
   "nbconvert_exporter": "python",
   "pygments_lexer": "ipython3",
   "version": "3.7.9"
  }
 },
 "nbformat": 4,
 "nbformat_minor": 4
}
